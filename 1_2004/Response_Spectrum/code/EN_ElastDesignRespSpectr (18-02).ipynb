{
 "cells": [
  {
   "cell_type": "markdown",
   "metadata": {},
   "source": [
    "# Elastic and design response spectrum according to EN 1998-1-1:2004\n",
    "## Eurocode 8: Design of structures for earthquake resistance\n",
    "## Part 1: General rules, seismic actions and rules for buildings\n",
    "## 3 Ground conditions and seismic action\n",
    "### 3.2 Seismic action\n",
    "#### 3.2.2.2 Horizontal elastic response spectrum\n",
    "#### 3.2.2.3 Vertical elastic response spectrum\n",
    "#### 3.2.2.5 Design spectrum for elastic analysis"
   ]
  },
  {
   "cell_type": "markdown",
   "metadata": {},
   "source": [
    "2018-02-26 Pedro Biel"
   ]
  },
  {
   "cell_type": "code",
   "execution_count": 1,
   "metadata": {
    "collapsed": false
   },
   "outputs": [],
   "source": [
    "# Import Anaconda packages\n",
    "# ------------------------\n",
    "\n",
    "import numpy as np\n",
    "import pandas as pd\n",
    "import matplotlib.pyplot as plt\n",
    "\n",
    "%matplotlib inline\n",
    "# Interactive plots? Replace `%matplotlib inline` by `%matplotlib`."
   ]
  },
  {
   "cell_type": "markdown",
   "metadata": {},
   "source": [
    "## 1. Scope"
   ]
  },
  {
   "cell_type": "markdown",
   "metadata": {},
   "source": [
    "The scope of this study is to show the shapes of the elastic response spectrum and the shapes of the design spectrum for the elastic analysis for both horizontal directions $x$ and $y$ and for the vertical direction $z$ according to the Eurocode EN 1998-1-1:2004.\n",
    "\n",
    "To that end, the class `SeismicAction` will be defined. The objects of the class `SeismicAction` will get us the parameters to define the values of the different spectrums.\n",
    "\n",
    "As practical application of this study, diffrent files for the calculation program `Autodesk Robot Structural Analysis Professional` (`RSAPRO`) will be created. `RSAPRO` can read directly these files and proceed with the spectral calculation for the seismic load cases. These plain files could be used also for others purposes."
   ]
  },
  {
   "cell_type": "markdown",
   "metadata": {},
   "source": [
    "## 2. What Eurocode tell us"
   ]
  },
  {
   "cell_type": "markdown",
   "metadata": {
    "collapsed": false
   },
   "source": [
    "**3.2.2 Basic representation of the seismic action**\n",
    "\n",
    "**3.2.2.1 General**\n",
    "\n",
    "(1)P Within the scope of EN 1998 the earthquake motion at a given point on the surface is represented by an elastic ground acceleration response spectrum, henceforth called an \"elastic response spectrum\".\n",
    "\n",
    "...\n",
    "\n",
    "(3)P The horizontal seismic action is described by two orthogonal components assumed as being independent and represented by the same response spectrum.\n",
    "\n",
    "(4) For the three components of the seismic action, one or more alternative shapes of response spectra may be adopted, depending on the seismic sources and the earthquake magnitudes generated from them.\n",
    "\n",
    "..."
   ]
  },
  {
   "cell_type": "markdown",
   "metadata": {
    "collapsed": false
   },
   "source": [
    "**3.2.2.2 Horizontal elastic response spectrum**\n",
    "\n",
    "(l)P For the horizontal components of the seismic action the elastic response spectrum $S_e(T)$ is defined by the following expressions (see Figure. 3.1):\n",
    "\n",
    "<img src = '../png/Expressions 3.1-5.png'>\n",
    "\n",
    "where\n",
    "\n",
    "$S_e(T)$ is the elastic response spectrum;\n",
    "\n",
    "$T$ is the vibration period of a linear single-degree-of-freedom system;\n",
    "\n",
    "$a_g$ is the design ground acceleration on type A ground ($a_g = \\gamma_I·a_{gR}$);\n",
    "\n",
    "$T_B$ is the lower limit of the period of the constant spectral acceleration branch;\n",
    "\n",
    "$T_C$ is the upper limit of the period of the constant spectral acceleration branch;\n",
    "\n",
    "$T_D$ is the value defining the beginning of the constant displacement response range of the spectrum;\n",
    "\n",
    "$S$ is the soil factor;\n",
    "\n",
    "$\\eta$ is the damping correction factor with a reference value of $\\eta$ = 1 for 5 % viscous damping, see (3) of this subclause.\n",
    "\n",
    "<img src = '../png/Figure 3.1.png'>\n",
    "\n",
    "..."
   ]
  },
  {
   "cell_type": "markdown",
   "metadata": {},
   "source": [
    "**3.2.2.3 Vertical elastic response spectrum**\n",
    "\n",
    "(1)P The vertical component of the seismic action shall be represented by an elastic response spectrum, $S_{ve}(T)$, derived using expressions (3.8)-(3.11).\n",
    "\n",
    "<img src = '../png/Expressions 3.8-11.png'>\n",
    "\n",
    "..."
   ]
  },
  {
   "cell_type": "markdown",
   "metadata": {},
   "source": [
    "**3.2.2.5 Design spectrum for elastic analysis**\n",
    "\n",
    "...\n",
    "\n",
    "(4)P For the horizontal components of the seismic action the design spectrum, $S_d(T)$, shall be defined by the following expressions:\n",
    "\n",
    "<img src = '../png/Expressions 3.13-16.png'>\n",
    "\n",
    "where\n",
    "\n",
    "$a_g$, $S$, $T_C$ and $T_D$ are defined in 3.2.2.2;\n",
    "\n",
    "$S_d(T)$ is the design spectrum;\n",
    "\n",
    "$q$ is the behaviour factor;\n",
    "\n",
    "$a_g$ is the design ground acceleration on type A ground ($a_g = \\gamma_I·a_{gR}$);\n",
    "\n",
    "$\\beta$ is the lower bound factor for the horizontal design spectrum.\n",
    "\n",
    "(5) For the vertical component of the seismic action the design spectrum is given by expressions (3.13) to (3.16), with the design ground acceleration in the vertical direction, $a_{vg}$ replacing $a_g$, $S$ taken as being equal to 1,0 and the other parameters as defined in 3.2.2.3.\n",
    "\n",
    "..."
   ]
  },
  {
   "cell_type": "markdown",
   "metadata": {},
   "source": [
    "## 3. The class SeimicAction"
   ]
  },
  {
   "cell_type": "markdown",
   "metadata": {},
   "source": [
    "It would make more sense for the purpose of this Notebook to define the different expresions of the elastic and design spectrums of the Eurocode as functions of Python, however, I have defined them as a class. With this I try to maintain the spirit of code-recycling and I am able to re-use the code, for example in a GUI application for Python."
   ]
  },
  {
   "cell_type": "code",
   "execution_count": 2,
   "metadata": {
    "collapsed": true
   },
   "outputs": [],
   "source": [
    "class SeismicAction:\n",
    "    \n",
    "    def __init__(self, agR, gI, ground_type, type_of_spectra, T, e, q, b):\n",
    "        \"\"\"\n",
    "        3.2 Seismic action        \n",
    "        3.2.1 Seismic zones\n",
    "        3.2.2 Basic representation of the seismic action\n",
    "        \n",
    "        agR              : [g] Reference peak ground acceleration on type A ground (3.2.1 (3)).\n",
    "        gI               : []  Importance factor (3.2.1 (3)).\n",
    "        ground_type      : []  A, B, C, D, E (3.1.2).\n",
    "        type_of_spectra  : []  1 or 2 (3.2.2.2 (2)P).\n",
    "        T                : [s] Vibration period of a linear single-degree-of-freedom system.\n",
    "        e                : []  Damping correction factor (3.2.2.2 (1)P).\n",
    "        q                : []  Behaviour factor (6.1, 6.2, 6.3, 6.5, 6.11, 4.4.1 (2)).\n",
    "        b                : []  Lower bound factor for the horizontal design spectrum (3.2.2.5 (4)P).\n",
    "        \"\"\"\n",
    "\n",
    "        self.agR = agR\n",
    "        self.gI = gI\n",
    "        self.ground_type = ground_type\n",
    "        self.type_of_spectra = type_of_spectra\n",
    "        self.T = T\n",
    "        self.e = e  # e = 1 for 5 % viscous damping.\n",
    "        self.q = q\n",
    "        self.b = b  # b = 0,2 is the recommended value.\n",
    "        \n",
    "        # Table 3.2: Values of the parameters describing the recomended Type 1 elsatic response spectra.\n",
    "\n",
    "        # Table 3.3: Values of the parameters describing the recomended Type 2 elsatic response spectra.\n",
    "\n",
    "        # See 3.2.2.2 (2)P to the recommended choice of the two types of spectra type 1 and type 2.\n",
    "        \n",
    "        # ground_type = (S, TB, TC, TD)\n",
    "\n",
    "        self.__ground_types = {\n",
    "            'A1': (1.00, 0.15, 0.40, 2.0),\n",
    "            'B1': (1.20, 0.15, 0.50, 2.0),\n",
    "            'C1': (1.15, 0.20, 0.60, 2.0),\n",
    "            'D1': (1.35, 0.20, 0.80, 2.0),\n",
    "            'E1': (1.40, 0.15, 0.50, 2.0),\n",
    "            'A2': (1.00, 0.05, 0.25, 1.2),\n",
    "            'B2': (1.35, 0.05, 0.25, 1.2),\n",
    "            'C2': (1.50, 0.10, 0.25, 1.2),\n",
    "            'D2': (1.80, 0.10, 0.30, 1.2),\n",
    "            'E2': (1.60, 0.05, 0.25, 1.2)\n",
    "            }\n",
    "        \n",
    "        # Table 3.4: Recommended values of parameters describing the vertical elastic response spectra.\n",
    "        \n",
    "        # ground_type = (avg/ag, TB, TC, TD)\n",
    "        \n",
    "        self.__vertical_ground_types = {\n",
    "            '1': (0.90, 0.05, 0.15, 1.0),\n",
    "            '2': (0.45, 0.05, 0.15, 1.0)\n",
    "            }\n",
    "    \n",
    "    \n",
    "    # 3.2.1 Seismic zones\n",
    "\n",
    "    def design_ground_acceleration(self):\n",
    "        \n",
    "        ag = self.gI * self.agR\n",
    "        \n",
    "        return ag\n",
    "\n",
    "\n",
    "    # 3.2.2.2 Horizontal elastic response spectrum\n",
    "    \n",
    "    # Values of the parameters describing the recommended type 1 and type 2 elastic response spectra.\n",
    "    \n",
    "    def __parameters(self):\n",
    "        \n",
    "        gt_ts = self.ground_type + self.type_of_spectra\n",
    "        \n",
    "        return self.__ground_types[gt_ts]\n",
    "    \n",
    "    def soil_factor(self):\n",
    "        \n",
    "        parameter = self.__parameters()\n",
    "        S = parameter[0]\n",
    "        \n",
    "        return S\n",
    "    \n",
    "    def lower_limit_of_the_period(self):\n",
    "        \n",
    "        parameter = self.__parameters()\n",
    "        TB = parameter[1]\n",
    "        \n",
    "        return TB\n",
    "    \n",
    "    def upper_limit_of_the_period(self):\n",
    "        \n",
    "        parameter = self.__parameters()\n",
    "        TC = parameter[2]\n",
    "        \n",
    "        return TC\n",
    "    \n",
    "    def beginnig_of_the_constant_displacement(self):\n",
    "        \n",
    "        parameter = self.__parameters()\n",
    "        TD = parameter[3]\n",
    "        \n",
    "        return TD\n",
    "        \n",
    "        \n",
    "    def horizontal_elastic_response_spectrum(self):\n",
    "        \n",
    "        ag = self.design_ground_acceleration()        \n",
    "        S = self.soil_factor()\n",
    "        TB = self.lower_limit_of_the_period()\n",
    "        TC = self.upper_limit_of_the_period()\n",
    "        TD = self.beginnig_of_the_constant_displacement()\n",
    "        T = self.T\n",
    "        e = self.e\n",
    "\n",
    "        SeT = []\n",
    "        \n",
    "        for t in T:\n",
    "            \n",
    "            if t <= TB:\n",
    "            \n",
    "                set1 = ag * S * (1 + t / TB * (e * 2.5 - 1))\n",
    "                SeT.append(set1)\n",
    "        \n",
    "            elif t <= TC:\n",
    "            \n",
    "                set2 = ag * S * e * 2.5\n",
    "                SeT.append(set2)\n",
    "            \n",
    "            elif t <= TD:\n",
    "                \n",
    "                set3 = ag * S * e * 2.5 * (TC / t)\n",
    "                SeT.append(set3)\n",
    "            \n",
    "            elif t <= 4:\n",
    "                \n",
    "                set4 = ag * S * e * 2.5 * (TC * TD / t ** 2)\n",
    "                SeT.append(set4)\n",
    "        \n",
    "        return SeT\n",
    "    \n",
    "    \n",
    "    # 3.2.2.3 Vertical elastic response spectrum\n",
    "    \n",
    "    # Recommended values of parameters describing the vertical elastic response spectra.\n",
    "    \n",
    "    def __vertical_parameters(self):\n",
    "        \n",
    "        ts = self.type_of_spectra\n",
    "        \n",
    "        return self.__vertical_ground_types[ts]\n",
    "    \n",
    "    def vertical_design_ground_acceleration(self):\n",
    "        \n",
    "        ag = self.design_ground_acceleration()           \n",
    "        vertical_parameter = self.__vertical_parameters()\n",
    "        \n",
    "        avg = vertical_parameter[0] * ag\n",
    "        \n",
    "        return avg\n",
    "    \n",
    "    def vertical_lower_limit_of_the_period(self):\n",
    "        \n",
    "        vertical_parameter = self.__vertical_parameters()\n",
    "        TB = vertical_parameter[1]\n",
    "        \n",
    "        return TB\n",
    "    \n",
    "    def vertical_upper_limit_of_the_period(self):\n",
    "        \n",
    "        vertical_parameter = self.__vertical_parameters()\n",
    "        TC = vertical_parameter[2]\n",
    "        \n",
    "        return TC\n",
    "    \n",
    "    def vertical_beginnig_of_the_constant_displacement(self):\n",
    "        \n",
    "        vertical_parameter = self.__vertical_parameters()\n",
    "        TD = vertical_parameter[3]\n",
    "        \n",
    "        return TD\n",
    "    \n",
    "    \n",
    "    def vertical_elastic_respose_spectrum(self):\n",
    "        \n",
    "        avg = self.vertical_design_ground_acceleration()        \n",
    "        TB = self.vertical_lower_limit_of_the_period()\n",
    "        TC = self.vertical_upper_limit_of_the_period()\n",
    "        TD = self.vertical_beginnig_of_the_constant_displacement()\n",
    "        T = self.T\n",
    "        e = self.e\n",
    "\n",
    "        SveT = []\n",
    "        \n",
    "        for t in T:\n",
    "            \n",
    "            if t <= TB:\n",
    "            \n",
    "                svet1 = avg * (1 + t / TB * (e * 3.0 - 1))\n",
    "                SveT.append(svet1)\n",
    "        \n",
    "            elif t <= TC:\n",
    "            \n",
    "                svet2 = avg * e * 3.0\n",
    "                SveT.append(svet2)\n",
    "        \n",
    "            elif t <= TD:\n",
    "            \n",
    "                svet3 = avg * e * 3.0 * (TC / t)\n",
    "                SveT.append(svet3)\n",
    "        \n",
    "            elif t <= 4:\n",
    "            \n",
    "                svet4 = avg * e * 3.0 * (TC * TD / t ** 2)\n",
    "                SveT.append(svet4)\n",
    "        \n",
    "        return SveT\n",
    "\n",
    "    \n",
    "    # 3.2.2.5 Design spectrum for elastic analysis\n",
    "    \n",
    "    def horizontal_design_spectrum(self):\n",
    "        \n",
    "        ag = self.design_ground_acceleration()\n",
    "        S = self.soil_factor()\n",
    "        TB = self.lower_limit_of_the_period()\n",
    "        TC = self.upper_limit_of_the_period()\n",
    "        TD = self.beginnig_of_the_constant_displacement()\n",
    "        T = self.T\n",
    "        q = self.q\n",
    "        b = self.b\n",
    "        \n",
    "        SdT = []\n",
    "        \n",
    "        for t in T:\n",
    "            \n",
    "            if t <= TB:\n",
    "                \n",
    "                sdt1 = ag * S * (2/3 + (t / TB) * ((2.5 / q) - 2/3))\n",
    "                SdT.append(sdt1)\n",
    "            \n",
    "            elif t <= TC:\n",
    "                \n",
    "                sdt2 = ag * S * 2.5 / q\n",
    "                SdT.append(sdt2)\n",
    "            \n",
    "            elif t <= TD:\n",
    "                \n",
    "                sdt31 = ag * S * (2.5 / q) * (TC / t)\n",
    "                sdt32 = b * ag\n",
    "                sdt3 = max(sdt31, sdt32)\n",
    "                SdT.append(sdt3)\n",
    "            \n",
    "            elif t <= 4:\n",
    "                \n",
    "                sdt41 = ag * S * (2.5 / q) * (TC * TD/ t ** 2)\n",
    "                sdt42 = b * ag\n",
    "                sdt4 = max(sdt41, sdt42)\n",
    "                SdT.append(sdt4)\n",
    "        \n",
    "        return SdT\n",
    "    \n",
    "    \n",
    "    def vertical_design_spectrum(self):\n",
    "        \n",
    "        avg = self.vertical_design_ground_acceleration()            # (3.2.2.5 (5)).\n",
    "        S = 1                                                       # (3.2.2.5 (5)).\n",
    "        TB = self.vertical_lower_limit_of_the_period()              # (3.2.2.5 (5)).\n",
    "        TC = self.vertical_upper_limit_of_the_period()              # (3.2.2.5 (5)).\n",
    "        TD = self.vertical_beginnig_of_the_constant_displacement()  # (3.2.2.5 (5)).\n",
    "        T = self.T\n",
    "        q = self.q                                                  # <= 1,5 (3.2.2.5 (6)).\n",
    "        b = self.b\n",
    "        \n",
    "        SvdT = []\n",
    "        \n",
    "        for t in T:\n",
    "        \n",
    "            if t <= TB:\n",
    "                \n",
    "                svdt1 = avg * S * (2/3 + (t / TB) * ((2.5 / q) - 2/3))\n",
    "                SvdT.append(svdt1)\n",
    "            \n",
    "            elif t <= TC:\n",
    "                \n",
    "                svdt2 = avg * S * 2.5 / q\n",
    "                SvdT.append(svdt2)\n",
    "            \n",
    "            elif t <= TD:\n",
    "                \n",
    "                svdt31 = avg * S * (2.5 / q) * (TC / t)\n",
    "                svdt32 = b * avg\n",
    "                svdt3 = max(svdt31, svdt32)\n",
    "                SvdT.append(svdt3)\n",
    "            \n",
    "            elif t <= 4:\n",
    "                \n",
    "                svdt41 = avg * S * (2.5 / q) * (TC * TD/ t ** 2)\n",
    "                svdt42 = b * avg\n",
    "                svdt4 = max(svdt41, svdt42)\n",
    "                SvdT.append(svdt4)\n",
    "        \n",
    "        return SvdT"
   ]
  },
  {
   "cell_type": "markdown",
   "metadata": {},
   "source": [
    "## 4 Input of parameters"
   ]
  },
  {
   "cell_type": "markdown",
   "metadata": {},
   "source": [
    "Depending on the site conditions and the project specifications we could have just one horizontal design ground acceleration $a_g$ or perhaps two different values of the acceleration $a_g$ for each horizontal axis $x$ and $y$ (longitudinal and transversal directions). It could be also possible that we have to study the behaviour of our structure under the vertical seismic action, in such case we need the value of the vertical design ground acceleration.\n",
    "\n",
    "In this Notebook it will be shown the results in the tree directions $x$, $y$ and $z$ (longitudinal, transversal and vertical directions).\n",
    "\n",
    "The following parameters depend on the site conditions and their values can vary depending on the project specifications."
   ]
  },
  {
   "cell_type": "markdown",
   "metadata": {},
   "source": [
    "### Viscous damping $\\zeta$"
   ]
  },
  {
   "cell_type": "code",
   "execution_count": 3,
   "metadata": {
    "collapsed": true
   },
   "outputs": [],
   "source": [
    "ζ = 0.05"
   ]
  },
  {
   "cell_type": "markdown",
   "metadata": {},
   "source": [
    "### Design ground acceleration $a_g$"
   ]
  },
  {
   "cell_type": "code",
   "execution_count": 4,
   "metadata": {
    "collapsed": true
   },
   "outputs": [],
   "source": [
    "agx = 0.14   # [m/s] Design ground acceleracion in the longitudinal x direction on type A ground (3.2.1 (3)).\n",
    "agy = 0.18   # [m/s] Design ground acceleracion in the transversal y direction on type A ground (3.2.1 (3)).\n",
    "avgz = 0.16  # [m/s] Design ground acceleration in the vertical z direction (3.2.1 (3))."
   ]
  },
  {
   "cell_type": "markdown",
   "metadata": {},
   "source": [
    "### Importance factor $\\gamma_I$"
   ]
  },
  {
   "cell_type": "code",
   "execution_count": 5,
   "metadata": {
    "collapsed": true
   },
   "outputs": [],
   "source": [
    "γI = 1.25  # [] (3.2.1 (3))"
   ]
  },
  {
   "cell_type": "markdown",
   "metadata": {},
   "source": [
    "### Ground type"
   ]
  },
  {
   "cell_type": "code",
   "execution_count": 6,
   "metadata": {
    "collapsed": true
   },
   "outputs": [],
   "source": [
    "ground_type = 'B'  # [] A, B, C, D, E (3.1.2)."
   ]
  },
  {
   "cell_type": "markdown",
   "metadata": {},
   "source": [
    "### Type of spectra"
   ]
  },
  {
   "cell_type": "code",
   "execution_count": 7,
   "metadata": {
    "collapsed": false
   },
   "outputs": [],
   "source": [
    "type_spectra = '1'  # [] 1 or 2 (3.2.2.2 (2)P)."
   ]
  },
  {
   "cell_type": "markdown",
   "metadata": {},
   "source": [
    "### Vibration period of a linear single-degree-of-freedom system $T$"
   ]
  },
  {
   "cell_type": "code",
   "execution_count": 8,
   "metadata": {
    "collapsed": false
   },
   "outputs": [],
   "source": [
    "T = np.linspace(0, 4, 401)  # [s]."
   ]
  },
  {
   "cell_type": "markdown",
   "metadata": {
    "collapsed": false
   },
   "source": [
    "### Damping correction factor $\\eta$"
   ]
  },
  {
   "cell_type": "code",
   "execution_count": 9,
   "metadata": {
    "collapsed": true
   },
   "outputs": [],
   "source": [
    "η = 1  # [] eta = 1 for 5 % viscous damping (3.2.2.2 (1)P)."
   ]
  },
  {
   "cell_type": "markdown",
   "metadata": {},
   "source": [
    "### Behaviour factor $q$"
   ]
  },
  {
   "cell_type": "code",
   "execution_count": 10,
   "metadata": {
    "collapsed": true
   },
   "outputs": [],
   "source": [
    "q = 3  # [] 6.1, 6.2, 6.3, 6.5, 6.11, 4.4.1 (2))."
   ]
  },
  {
   "cell_type": "markdown",
   "metadata": {},
   "source": [
    "### Lower bound factor for the horizontal design $\\beta$"
   ]
  },
  {
   "cell_type": "code",
   "execution_count": 11,
   "metadata": {
    "collapsed": true
   },
   "outputs": [],
   "source": [
    "β = 0.2  # [] beta = 0,2 is the recommended value (3.2.2.5 (4)P)."
   ]
  },
  {
   "cell_type": "markdown",
   "metadata": {},
   "source": [
    "## 5 Values of the parameters describing the recommended elastic response spectra"
   ]
  },
  {
   "cell_type": "markdown",
   "metadata": {},
   "source": [
    "### Seismic action in the longitudinal $x$ direction"
   ]
  },
  {
   "cell_type": "code",
   "execution_count": 12,
   "metadata": {
    "collapsed": false
   },
   "outputs": [],
   "source": [
    "seismicaction_x = SeismicAction(agx, γI, ground_type, type_spectra, T, η, q, β)\n",
    "\n",
    "agx = seismicaction_x.design_ground_acceleration()\n",
    "\n",
    "S = seismicaction_x.soil_factor()\n",
    "\n",
    "TB = seismicaction_x.lower_limit_of_the_period()\n",
    "TC = seismicaction_x.upper_limit_of_the_period()\n",
    "TD = seismicaction_x.beginnig_of_the_constant_displacement()\n",
    "\n",
    "SeTx = seismicaction_x.horizontal_elastic_response_spectrum()\n",
    "SdTx = seismicaction_x.horizontal_design_spectrum()"
   ]
  },
  {
   "cell_type": "markdown",
   "metadata": {},
   "source": [
    "### Seismic action in the transversal $y$ direction"
   ]
  },
  {
   "cell_type": "code",
   "execution_count": 13,
   "metadata": {
    "collapsed": false
   },
   "outputs": [],
   "source": [
    "seismicaction_y = SeismicAction(agy, γI, ground_type, type_spectra, T, η, q, β)\n",
    "\n",
    "agy = seismicaction_y.design_ground_acceleration()\n",
    "\n",
    "SeTy = seismicaction_y.horizontal_elastic_response_spectrum()\n",
    "SdTy = seismicaction_y.horizontal_design_spectrum()"
   ]
  },
  {
   "cell_type": "markdown",
   "metadata": {},
   "source": [
    "### Seismic action in the vertical $z$ direction"
   ]
  },
  {
   "cell_type": "code",
   "execution_count": 14,
   "metadata": {
    "collapsed": false
   },
   "outputs": [],
   "source": [
    "seismicaction_z = SeismicAction(avgz, γI, ground_type, type_spectra, T, η, q, β)\n",
    "\n",
    "avgz = seismicaction_z.vertical_design_ground_acceleration()\n",
    "\n",
    "TBv = seismicaction_z.vertical_lower_limit_of_the_period()\n",
    "TCv = seismicaction_z.vertical_upper_limit_of_the_period()\n",
    "TDv = seismicaction_z.vertical_beginnig_of_the_constant_displacement()\n",
    "\n",
    "SveT = seismicaction_z.horizontal_elastic_response_spectrum()\n",
    "SdTz = seismicaction_z.horizontal_design_spectrum()"
   ]
  },
  {
   "cell_type": "markdown",
   "metadata": {
    "collapsed": true
   },
   "source": [
    "## 6 Table with the values of the parameters describing the recommended elastic response spectra"
   ]
  },
  {
   "cell_type": "code",
   "execution_count": 15,
   "metadata": {
    "collapsed": false
   },
   "outputs": [
    {
     "data": {
      "text/html": [
       "<div>\n",
       "<table border=\"1\" class=\"dataframe\">\n",
       "  <thead>\n",
       "    <tr style=\"text-align: right;\">\n",
       "      <th></th>\n",
       "      <th>Spectrum</th>\n",
       "      <th>Type of spectra</th>\n",
       "      <th>Ground type</th>\n",
       "      <th>$a_g$</th>\n",
       "      <th>$S$</th>\n",
       "      <th>$T_B [s]$</th>\n",
       "      <th>$T_C [s]$</th>\n",
       "      <th>$T_D [s]$</th>\n",
       "    </tr>\n",
       "  </thead>\n",
       "  <tbody>\n",
       "    <tr>\n",
       "      <th>0</th>\n",
       "      <td>Horizontal x</td>\n",
       "      <td>1</td>\n",
       "      <td>B</td>\n",
       "      <td>0.175</td>\n",
       "      <td>1.2</td>\n",
       "      <td>0.15</td>\n",
       "      <td>0.50</td>\n",
       "      <td>2.0</td>\n",
       "    </tr>\n",
       "    <tr>\n",
       "      <th>1</th>\n",
       "      <td>Horizontal y</td>\n",
       "      <td>1</td>\n",
       "      <td>B</td>\n",
       "      <td>0.225</td>\n",
       "      <td>1.2</td>\n",
       "      <td>0.15</td>\n",
       "      <td>0.50</td>\n",
       "      <td>2.0</td>\n",
       "    </tr>\n",
       "    <tr>\n",
       "      <th>2</th>\n",
       "      <td>Vertical z</td>\n",
       "      <td>1</td>\n",
       "      <td>B</td>\n",
       "      <td>0.180</td>\n",
       "      <td>1.2</td>\n",
       "      <td>0.05</td>\n",
       "      <td>0.15</td>\n",
       "      <td>1.0</td>\n",
       "    </tr>\n",
       "  </tbody>\n",
       "</table>\n",
       "</div>"
      ],
      "text/plain": [
       "       Spectrum Type of spectra Ground type  $a_g$  $S$  $T_B [s]$  $T_C [s]$  \\\n",
       "0  Horizontal x               1           B  0.175  1.2       0.15       0.50   \n",
       "1  Horizontal y               1           B  0.225  1.2       0.15       0.50   \n",
       "2    Vertical z               1           B  0.180  1.2       0.05       0.15   \n",
       "\n",
       "   $T_D [s]$  \n",
       "0        2.0  \n",
       "1        2.0  \n",
       "2        1.0  "
      ]
     },
     "execution_count": 15,
     "metadata": {},
     "output_type": "execute_result"
    }
   ],
   "source": [
    "table = pd.DataFrame([\n",
    "        ('Horizontal x', type_spectra, ground_type, agx, S, TB, TC, TD),\n",
    "        ('Horizontal y', type_spectra, ground_type, agy, S, TB, TC, TD),\n",
    "        ('Vertical z', type_spectra, ground_type, avgz, S, TBv, TCv, TDv)],\n",
    "        columns = ['Spectrum', 'Type of spectra', 'Ground type','$a_g$', '$S$', '$T_B [s]$', '$T_C [s]$', '$T_D [s]$'])\n",
    "table"
   ]
  },
  {
   "cell_type": "markdown",
   "metadata": {
    "collapsed": true
   },
   "source": [
    "## 7 Spectral shapes"
   ]
  },
  {
   "cell_type": "code",
   "execution_count": 16,
   "metadata": {
    "collapsed": false
   },
   "outputs": [
    {
     "data": {
      "text/plain": [
       "[]"
      ]
     },
     "execution_count": 16,
     "metadata": {},
     "output_type": "execute_result"
    },
    {
     "data": {
      "image/png": "[encoded data removed]",
      "text/plain": [
       "<matplotlib.figure.Figure at 0x1163a59ce80>"
      ]
     },
     "metadata": {},
     "output_type": "display_data"
    }
   ],
   "source": [
    "plt.style.use('seaborn-darkgrid') # Make the graphs a bit prettier\n",
    "\n",
    "fig, (ax1, ax2) = plt.subplots(1, 2, figsize=(16,5))\n",
    "\n",
    "ax1.plot(T, SveT, color='slateblue',      linewidth=2, label='$S_{ve}(T)_z$')\n",
    "ax1.plot(T, SeTy, color='mediumseagreen', linewidth=2, label='$S_e(T)_y$')\n",
    "ax1.plot(T, SeTx, color='coral',          linewidth=2, label='$S_e(T)_z$')\n",
    "ax2.plot(T, SdTz, color='b',              linewidth=2, label='$S_d(T)_z$')\n",
    "ax2.plot(T, SdTy, color='g',              linewidth=2, label='$S_d(T)_y$')\n",
    "ax2.plot(T, SdTx, color='r',              linewidth=2, label='$S_d(T)_x$')\n",
    "\n",
    "ax1.axis([0, 4, 0, max(SveT) + 0.1])\n",
    "ax2.axis([0, 4, 0, max(SdTz) + 0.1])\n",
    "\n",
    "ax1.set_xlabel('$T$ [s]', fontsize=14)\n",
    "ax1.set_ylabel('$S_e(T)$ [g]', fontsize=14)\n",
    "ax1.legend(prop={'size': 14})\n",
    "ax1.set_title('Shapes of the elastic response spectrum', fontsize=16)\n",
    "\n",
    "ax2.set_xlabel('$T$ [s]', fontsize=14)\n",
    "ax2.set_ylabel('$S_d(T)$ [g]', fontsize=14)\n",
    "ax2.legend(prop={'size': 14})\n",
    "ax2.set_title('Shapes of the design spectrum for the elastic analysis', fontsize=16)\n",
    "\n",
    "plt.plot()"
   ]
  },
  {
   "cell_type": "markdown",
   "metadata": {},
   "source": [
    "## 8 Spectral files for RSAPRO"
   ]
  },
  {
   "cell_type": "markdown",
   "metadata": {},
   "source": [
    "In adition to this study, the spectral values will be saved ready for the use of the structural calculation program `Autodesk Robot Structural Analysis Professional` (`RSAPRO`). `RSAPRO` reads the data from plain text files with the extension `spe`.\n",
    "\n",
    "The structure of these files is shown as follows:\n",
    "\n",
    "    Line        Data                    Comment\n",
    "    ----------------------------------------------------------------------------------------\n",
    "    1           SECTRUM                 Standard title of the file.\n",
    "    2           Name of the spectrum    Name of our spectrum.\n",
    "    3           0  0  0  1              Whatever that means.\n",
    "    4           0.05  Number            Viscous damping and number of points in the graphic.\n",
    "    5 and on    0.00  1.372931          Abscissae (period [s]) and ordinates (spectrum [m/s²]).\n",
    "    ...\n",
    "\n",
    "The first four rows are according to the format that RSAPRO needs to \"understand\" the values of the spectrum of the file. For other purposes the fifth and successive rows can be read to get the values of the spectrum.\n",
    "\n",
    "While the Eurocode defines the spectrums $S_e (T)$ and $S_d (T)$ as a function of the acceleration, `RSAPRO` takes into account the acceleration in the ordinates for each spectrum. Therefore, the values of the spectrums $S_e (T)$ and $S_d (T)$ shall be multiplied by $g_0$ = 9,80665 m/s²."
   ]
  },
  {
   "cell_type": "markdown",
   "metadata": {},
   "source": [
    "### 8.1 The class SpectrumFile"
   ]
  },
  {
   "cell_type": "code",
   "execution_count": 17,
   "metadata": {
    "collapsed": true
   },
   "outputs": [],
   "source": [
    "class SpectrumFile:\n",
    "    \n",
    "    def __init__(self, filename, spectrum, z, T, S):\n",
    "        \"\"\"\n",
    "        filename  : [string] Spectrum file name for RSAPRO.\n",
    "        spectrum  : [string] Spectrum name.\n",
    "        z         : []       Viscous damping.\n",
    "        T         : [s]      Vibration period of a linear single-degree-of-freedom system.\n",
    "        S         : [g_0]    Spectrum according to EN 1998-1-1:2004.\n",
    "        \"\"\"\n",
    "        \n",
    "        g0 = 9.80665 # [m/s²] Standard acceleration due to gravity.\n",
    "        \n",
    "        self.filename = filename\n",
    "        self.spectrum = spectrum\n",
    "        self.z = z\n",
    "        self.T = T \n",
    "        self.S = np.array(S) * g0\n",
    "        \n",
    "        self.pfad_filename = '../spe/' + self.filename\n",
    "        \n",
    "        self.file()\n",
    "        \n",
    "    def file(self):\n",
    "        \n",
    "        with open(self.pfad_filename, 'w') as f:\n",
    "    \n",
    "            f.write('SECTRUM\\n')\n",
    "            f.write(self.spectrum + '\\n')\n",
    "            f.write('0  0  0  1\\n')\n",
    "            f.write('{}  {}\\n'.format(str(self.z), str(len(self.S))))\n",
    "\n",
    "            for t, s in zip(self.T, self.S):\n",
    "\n",
    "                t = str('{:.2f}'.format(t))  # Convert t with two decimals to string.\n",
    "                s = str('{:.6f}'.format(s))  # Convert s with six decimals to string.\n",
    "                f.write('{}  {}\\n'.format(t, s))"
   ]
  },
  {
   "cell_type": "markdown",
   "metadata": {},
   "source": [
    "### 8.2 Elastic response spectrum"
   ]
  },
  {
   "cell_type": "markdown",
   "metadata": {},
   "source": [
    "#### 8.2.1 Horizontal direction x"
   ]
  },
  {
   "cell_type": "code",
   "execution_count": 18,
   "metadata": {
    "collapsed": false
   },
   "outputs": [],
   "source": [
    "ERS_X = SpectrumFile('ERSx.spe', 'Elastic Response Spectrum X', ζ, T, SeTx)\n",
    "ERS_X.file()"
   ]
  },
  {
   "cell_type": "markdown",
   "metadata": {},
   "source": [
    "#### 8.2.2 Horizontal direction y"
   ]
  },
  {
   "cell_type": "code",
   "execution_count": 19,
   "metadata": {
    "collapsed": false
   },
   "outputs": [],
   "source": [
    "ERS_Y = SpectrumFile('ERSy.spe', 'Elastic Response Spectrum Y', ζ, T, SeTy)\n",
    "ERS_Y.file()"
   ]
  },
  {
   "cell_type": "markdown",
   "metadata": {},
   "source": [
    "#### 8.2.3 Vertical direction z"
   ]
  },
  {
   "cell_type": "code",
   "execution_count": 20,
   "metadata": {
    "collapsed": false
   },
   "outputs": [],
   "source": [
    "ERS_Z = SpectrumFile('ERSz.spe', 'Elastic Response Spectrum Z', ζ, T, SveT)\n",
    "ERS_Z.file()"
   ]
  },
  {
   "cell_type": "markdown",
   "metadata": {},
   "source": [
    "### 8.3 Design spectrum"
   ]
  },
  {
   "cell_type": "markdown",
   "metadata": {},
   "source": [
    "#### 8.3.1 Horizontal direction x"
   ]
  },
  {
   "cell_type": "code",
   "execution_count": 21,
   "metadata": {
    "collapsed": false
   },
   "outputs": [],
   "source": [
    "DS_X = SpectrumFile('DSx.spe', 'Design Spectrum X', ζ, T, SdTx)\n",
    "DS_X.file()"
   ]
  },
  {
   "cell_type": "markdown",
   "metadata": {},
   "source": [
    "#### 8.3.2 Horizontal direction y"
   ]
  },
  {
   "cell_type": "code",
   "execution_count": 22,
   "metadata": {
    "collapsed": false
   },
   "outputs": [],
   "source": [
    "DS_Y = SpectrumFile('DSy.spe', 'Design Spectrum Y', ζ, T, SdTy)\n",
    "DS_Y.file()"
   ]
  },
  {
   "cell_type": "markdown",
   "metadata": {},
   "source": [
    "#### 8.3.3 Vertical direction z"
   ]
  },
  {
   "cell_type": "code",
   "execution_count": 23,
   "metadata": {
    "collapsed": false
   },
   "outputs": [],
   "source": [
    "DS_Z = SpectrumFile('DSz.spe', 'Design Spectrum Z', ζ, T, SdTz)\n",
    "DS_Z.file()"
   ]
  },
  {
   "cell_type": "markdown",
   "metadata": {
    "collapsed": true
   },
   "source": [
    "## 9. Version"
   ]
  },
  {
   "cell_type": "code",
   "execution_count": 24,
   "metadata": {
    "collapsed": false
   },
   "outputs": [
    {
     "data": {
      "application/json": {
       "Software versions": [
        {
         "module": "Python",
         "version": "3.5.1 64bit [MSC v.1900 64 bit (AMD64)]"
        },
        {
         "module": "IPython",
         "version": "4.1.2"
        },
        {
         "module": "OS",
         "version": "Windows 10 10.0.16299 SP0"
        },
        {
         "module": "numpy",
         "version": "1.10.4"
        },
        {
         "module": "pandas",
         "version": "0.18.0"
        },
        {
         "module": "matplotlib",
         "version": "1.5.1"
        }
       ]
      },
      "text/html": [
       "<table><tr><th>Software</th><th>Version</th></tr><tr><td>Python</td><td>3.5.1 64bit [MSC v.1900 64 bit (AMD64)]</td></tr><tr><td>IPython</td><td>4.1.2</td></tr><tr><td>OS</td><td>Windows 10 10.0.16299 SP0</td></tr><tr><td>numpy</td><td>1.10.4</td></tr><tr><td>pandas</td><td>0.18.0</td></tr><tr><td>matplotlib</td><td>1.5.1</td></tr><tr><td colspan='2'>Mon Feb 26 19:11:40 2018 Hora estándar romance</td></tr></table>"
      ],
      "text/latex": [
       "\\begin{tabular}{|l|l|}\\hline\n",
       "{\\bf Software} & {\\bf Version} \\\\ \\hline\\hline\n",
       "Python & 3.5.1 64bit [MSC v.1900 64 bit (AMD64)] \\\\ \\hline\n",
       "IPython & 4.1.2 \\\\ \\hline\n",
       "OS & Windows 10 10.0.16299 SP0 \\\\ \\hline\n",
       "numpy & 1.10.4 \\\\ \\hline\n",
       "pandas & 0.18.0 \\\\ \\hline\n",
       "matplotlib & 1.5.1 \\\\ \\hline\n",
       "\\hline \\multicolumn{2}{|l|}{Mon Feb 26 19:11:40 2018 Hora estándar romance} \\\\ \\hline\n",
       "\\end{tabular}\n"
      ],
      "text/plain": [
       "Software versions\n",
       "Python 3.5.1 64bit [MSC v.1900 64 bit (AMD64)]\n",
       "IPython 4.1.2\n",
       "OS Windows 10 10.0.16299 SP0\n",
       "numpy 1.10.4\n",
       "pandas 0.18.0\n",
       "matplotlib 1.5.1\n",
       "Mon Feb 26 19:11:40 2018 Hora estándar romance"
      ]
     },
     "execution_count": 24,
     "metadata": {},
     "output_type": "execute_result"
    }
   ],
   "source": [
    "%load_ext version_information\n",
    "%reload_ext version_information\n",
    "\n",
    "%version_information numpy, pandas, matplotlib"
   ]
  }
 ],
 "metadata": {
  "kernelspec": {
   "display_name": "Python 3",
   "language": "python",
   "name": "python3"
  },
  "language_info": {
   "codemirror_mode": {
    "name": "ipython",
    "version": 3
   },
   "file_extension": ".py",
   "mimetype": "text/x-python",
   "name": "python",
   "nbconvert_exporter": "python",
   "pygments_lexer": "ipython3",
   "version": "3.5.1"
  }
 },
 "nbformat": 4,
 "nbformat_minor": 0
}
